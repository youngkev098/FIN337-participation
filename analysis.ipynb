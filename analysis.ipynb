{
 "cells": [
  {
   "cell_type": "markdown",
   "metadata": {},
   "source": [
    "# Assignment 5 Scrapping Data\n",
    "### Kevin Williams "
   ]
  },
  {
   "cell_type": "markdown",
   "metadata": {},
   "source": [
    "# Imports "
   ]
  },
  {
   "cell_type": "code",
   "execution_count": 39,
   "metadata": {},
   "outputs": [],
   "source": [
    "import pandas as pd\n",
    "from requests_html import HTMLSession\n",
    "import os\n",
    "import re\n",
    "from time import sleep\n",
    "from tqdm.notebook import tqdm # progress bar\n",
    "from NEAR_regex import NEAR_regex \n",
    "from bs4 import BeautifulSoup\n",
    "import numpy as np\n",
    "import seaborn as sns\n",
    "import matplotlib.pyplot as plt"
   ]
  },
  {
   "cell_type": "markdown",
   "metadata": {},
   "source": [
    "# Disclamer !\n",
    "\n",
    "In this assignment I am having an issue with updating the risk calculations to the rows. Take a look at my test section in measure_risk.ipynb, which has the same exact code and runs perfectly for another df. \n",
    "\n",
    "I was told that when I created the risk columns to use np.nan instead of 0, but either way the NEAR_regex search results are not being inputed into ccm_with_risk.\n",
    "\n",
    "Moving forward, pay attention to my \"style of coding\" because for the most part I understand how to code this assignment. \n",
    "\n",
    "*The analysis folder will now use a static df i created to demonstrate my visualization and anlaysis skills*"
   ]
  },
  {
   "cell_type": "markdown",
   "metadata": {},
   "source": [
    "#### Sticking to assignment 5 instructions if code worked "
   ]
  },
  {
   "cell_type": "code",
   "execution_count": null,
   "metadata": {},
   "outputs": [],
   "source": [
    "# # import risk df to conduct analysis on \n",
    "# risk_data = pd.read_stata('output/ccm_with_risk.dta')\n",
    "\n",
    "# #explore the dataFrame \n",
    "# risk_data.head()"
   ]
  },
  {
   "cell_type": "markdown",
   "metadata": {},
   "source": [
    "## Quick Setup\n",
    "### *becuse ccm_with_risk didnt update correctly*"
   ]
  },
  {
   "cell_type": "code",
   "execution_count": 28,
   "metadata": {},
   "outputs": [],
   "source": [
    "ccm = pd.read_stata('input/2007_inv_and_tech.dta')\n",
    "\n",
    "# create 5 new risk variables\n",
    "ccm_with_risk = ccm.assign(\n",
    "    govt_risk1 = np.nan,\n",
    "    govt_risk2 = np.nan,\n",
    "    govt_risk3 = np.nan,\n",
    "    currency_risk = np.nan,\n",
    "    reputational_risk = np.nan,\n",
    ")"
   ]
  },
  {
   "cell_type": "code",
   "execution_count": 29,
   "metadata": {},
   "outputs": [],
   "source": [
    "def get_ccm_Filepath(row):\n",
    "    '''\n",
    "    Parameters\n",
    "    ----------\n",
    "    row: Pandas dataFrame indicating \"row of passed\" df\n",
    "    \n",
    "    Warning / Feature\n",
    "    -------\n",
    "    \n",
    "    This function will only work for the ccm dataFrame beacause of \"FName\" and thus is not flexable \n",
    "    \n",
    "    Returns\n",
    "    -------\n",
    "    This function returns text or byte string giving the name (and the path\n",
    "    if the file isn't in the current working directory) of the file to\n",
    "    be opened. If name of file is not found returns false.\n",
    "    '''\n",
    "    if row['FName'] != '': \n",
    "        form     = row['Form'].replace('/','').replace('\\\\','')  \n",
    "        CoName   = row['CoName'].replace('/','')\n",
    "        folder   =  f'edgar_filings/{CoName}/{form}/fyear_{int(row[\"fyear\"])}/'\n",
    "        filename = row['FName'].split('/')[-1] \n",
    "        filepath = folder + filename\n",
    "        return filepath\n",
    "    else: \n",
    "        return False\n",
    "\n"
   ]
  },
  {
   "cell_type": "code",
   "execution_count": 37,
   "metadata": {},
   "outputs": [
    {
     "name": "stdout",
     "output_type": "stream",
     "text": [
      "   govt_risk1  govt_risk2  govt_risk3\n",
      "0           0           0           0\n",
      "1           0           0           0\n",
      "2           0           0           0\n",
      "3           0           0           0\n",
      "4           0           0           0\n"
     ]
    },
    {
     "data": {
      "application/vnd.jupyter.widget-view+json": {
       "model_id": "28ba6ebf6db3415994c2a789f78e52cd",
       "version_major": 2,
       "version_minor": 0
      },
      "text/plain": [
       "HBox(children=(IntProgress(value=1, bar_style='info', description='Parsing and searching risks ', max=1, style…"
      ]
     },
     "metadata": {},
     "output_type": "display_data"
    },
    {
     "name": "stdout",
     "output_type": "stream",
     "text": [
      "\n"
     ]
    },
    {
     "data": {
      "text/html": [
       "<div>\n",
       "<style scoped>\n",
       "    .dataframe tbody tr th:only-of-type {\n",
       "        vertical-align: middle;\n",
       "    }\n",
       "\n",
       "    .dataframe tbody tr th {\n",
       "        vertical-align: top;\n",
       "    }\n",
       "\n",
       "    .dataframe thead th {\n",
       "        text-align: right;\n",
       "    }\n",
       "</style>\n",
       "<table border=\"1\" class=\"dataframe\">\n",
       "  <thead>\n",
       "    <tr style=\"text-align: right;\">\n",
       "      <th></th>\n",
       "      <th>CoName</th>\n",
       "      <th>govt_risk1</th>\n",
       "      <th>govt_risk2</th>\n",
       "      <th>govt_risk3</th>\n",
       "    </tr>\n",
       "  </thead>\n",
       "  <tbody>\n",
       "    <tr>\n",
       "      <th>0</th>\n",
       "      <td>ABM INDUSTRIES INC /DE/</td>\n",
       "      <td>1</td>\n",
       "      <td>2</td>\n",
       "      <td>0</td>\n",
       "    </tr>\n",
       "    <tr>\n",
       "      <th>1</th>\n",
       "      <td></td>\n",
       "      <td>0</td>\n",
       "      <td>0</td>\n",
       "      <td>0</td>\n",
       "    </tr>\n",
       "    <tr>\n",
       "      <th>2</th>\n",
       "      <td>ANALYSTS INTERNATIONAL CORP</td>\n",
       "      <td>1</td>\n",
       "      <td>1</td>\n",
       "      <td>0</td>\n",
       "    </tr>\n",
       "    <tr>\n",
       "      <th>3</th>\n",
       "      <td></td>\n",
       "      <td>0</td>\n",
       "      <td>0</td>\n",
       "      <td>0</td>\n",
       "    </tr>\n",
       "    <tr>\n",
       "      <th>4</th>\n",
       "      <td>AUTODESK INC</td>\n",
       "      <td>2</td>\n",
       "      <td>2</td>\n",
       "      <td>2</td>\n",
       "    </tr>\n",
       "  </tbody>\n",
       "</table>\n",
       "</div>"
      ],
      "text/plain": [
       "                        CoName  govt_risk1  govt_risk2  govt_risk3\n",
       "0      ABM INDUSTRIES INC /DE/           1           2           0\n",
       "1                                        0           0           0\n",
       "2  ANALYSTS INTERNATIONAL CORP           1           1           0\n",
       "3                                        0           0           0\n",
       "4                 AUTODESK INC           2           2           2"
      ]
     },
     "execution_count": 37,
     "metadata": {},
     "output_type": "execute_result"
    }
   ],
   "source": [
    "# testing parsing, searching risks, and updating a generated row df\n",
    "data = {'govt_risk1':[0, 0, 0,0,0], \n",
    "        'govt_risk2':[0, 0, 0,0,0], \n",
    "        'govt_risk3':[0, 0, 0,0,0]} \n",
    "# data = {'CoName':['ABM INDUSTRIES INC /DE/',\n",
    "#                   '',\n",
    "#                   'ANALYSTS INTERNATIONAL CORP',\n",
    "#                   '',\n",
    "#                   'AUTODESK INC'], \n",
    " \n",
    "df = pd.DataFrame(data) \n",
    "\n",
    "print(df)\n",
    "for index, row in tqdm(df.iterrows(),desc='Parsing and searching risks '):\n",
    "    index              = ccm_with_risk.iloc[index]\n",
    "    filepath           = get_ccm_Filepath(index)\n",
    "    \n",
    "    if filepath != False:\n",
    "        company_filing = open(filepath, 'r') # open Company 10-K file txt\n",
    "        lower          = BeautifulSoup(company_filing.read()).get_text().lower() # removes html tags and lower case everything \n",
    "        no_punc        = re.sub(r'\\W',' ',lower) # remove punctuations (\\w is word chars, \\W is the opposite)\n",
    "        cleaned        = re.sub(r'\\s+',' ',no_punc).strip() # remove excess whitespace (\\s is all whitespace)\n",
    "        company_filing.close()\n",
    "        \n",
    "       # risk searches\n",
    "        words = ['government','risk']\n",
    "        rgx = NEAR_regex(words,max_words_between=100,partial=True)\n",
    "        row['govt_risk1'] = len(re.findall(rgx,cleaned))\n",
    "        \n",
    "        # increased max_words_between\n",
    "        words = ['government','risk']\n",
    "        rgx = NEAR_regex(words,max_words_between=150,partial=True)\n",
    "        row['govt_risk2'] = len(re.findall(rgx,cleaned))\n",
    "        \n",
    "        # changed number of words  \n",
    "        words = ['government','negatively','risk']\n",
    "        rgx = NEAR_regex(words,max_words_sbetween=200,partial=True)\n",
    "        row['govt_risk3'] = len(re.findall(rgx,cleaned))\n",
    "        \n",
    "    else:\n",
    "        #go to next row in df \n",
    "        continue\n",
    "\n",
    "company_name =pd.DataFrame(['ABM INDUSTRIES INC /DE/','','ANALYSTS INTERNATIONAL CORP','','AUTODESK INC'])\n",
    "df.insert(0, 'CoName', company_name)\n",
    "df\n"
   ]
  },
  {
   "cell_type": "markdown",
   "metadata": {},
   "source": [
    "# Plots"
   ]
  },
  {
   "cell_type": "code",
   "execution_count": 40,
   "metadata": {},
   "outputs": [
    {
     "data": {
      "text/plain": [
       "<matplotlib.axes._subplots.AxesSubplot at 0x115d46f90>"
      ]
     },
     "execution_count": 40,
     "metadata": {},
     "output_type": "execute_result"
    },
    {
     "data": {
      "image/png": "[encoded data removed]",
      "text/plain": [
       "<Figure size 432x288 with 1 Axes>"
      ]
     },
     "metadata": {
      "needs_background": "light"
     },
     "output_type": "display_data"
    }
   ],
   "source": [
    "plt.style.use('bmh')\n",
    "sns.boxplot(data = df, x='govt_risk1')\n",
    "plt.title(\"Government Risk Mesure 1 Acros\")\n",
    "plt.xlabel('Year')\n",
    "plt.ylabel('Average Leverage')\n",
    "plt.ylim(0,0.65)"
   ]
  },
  {
   "cell_type": "code",
   "execution_count": null,
   "metadata": {},
   "outputs": [],
   "source": [
    "sns.catplot(x=\"sex\", y=columns.count(), hue=\"class\", kind=\"bar\", data=titanic);\n"
   ]
  },
  {
   "cell_type": "markdown",
   "metadata": {},
   "source": [
    "# Analysis\n",
    "\n",
    "#### Explore the correlation between 2008 investment (CAPX and R&D) and 2007 technology.\n"
   ]
  },
  {
   "cell_type": "code",
   "execution_count": null,
   "metadata": {},
   "outputs": [],
   "source": []
  },
  {
   "cell_type": "code",
   "execution_count": null,
   "metadata": {},
   "outputs": [],
   "source": []
  }
 ],
 "metadata": {
  "kernelspec": {
   "display_name": "Python 3",
   "language": "python",
   "name": "python3"
  },
  "language_info": {
   "codemirror_mode": {
    "name": "ipython",
    "version": 3
   },
   "file_extension": ".py",
   "mimetype": "text/x-python",
   "name": "python",
   "nbconvert_exporter": "python",
   "pygments_lexer": "ipython3",
   "version": "3.7.4"
  }
 },
 "nbformat": 4,
 "nbformat_minor": 2
}
